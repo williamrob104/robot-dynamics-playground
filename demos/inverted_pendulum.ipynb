{
 "cells": [
  {
   "cell_type": "code",
   "execution_count": 78,
   "metadata": {},
   "outputs": [
    {
     "name": "stderr",
     "output_type": "stream",
     "text": [
      "\u001b[32m\u001b[1m  Activating\u001b[22m\u001b[39m environment at `c:\\Users\\william\\Desktop\\robot-dynamics-playground\\demos\\Project.toml`\n"
     ]
    },
    {
     "name": "stderr",
     "output_type": "stream",
     "text": [
      "\u001b[32m\u001b[1mPrecompiling\u001b[22m\u001b[39m project...\n"
     ]
    },
    {
     "name": "stderr",
     "output_type": "stream",
     "text": [
      "\u001b[33m  ✓ \u001b[39m\u001b[90mQt6Base_jll\u001b[39m\n"
     ]
    },
    {
     "name": "stderr",
     "output_type": "stream",
     "text": [
      "\u001b[33m  ✓ \u001b[39m\u001b[90mGR_jll\u001b[39m\n"
     ]
    },
    {
     "name": "stderr",
     "output_type": "stream",
     "text": [
      "\u001b[33m  ✓ \u001b[39m\u001b[90mGR\u001b[39m\n"
     ]
    },
    {
     "name": "stderr",
     "output_type": "stream",
     "text": [
      "\u001b[33m  ✓ \u001b[39mPlots\n"
     ]
    },
    {
     "name": "stderr",
     "output_type": "stream",
     "text": [
      "  4 dependencies successfully precompiled in 75 seconds (171 already precompiled)\n",
      "  \u001b[33m4\u001b[39m dependencies precompiled but different versions are currently loaded. Restart julia to access the new versions\n"
     ]
    }
   ],
   "source": [
    "import Pkg; Pkg.activate(@__DIR__); Pkg.instantiate();"
   ]
  },
  {
   "cell_type": "code",
   "execution_count": 10,
   "metadata": {},
   "outputs": [],
   "source": [
    "using LinearAlgebra\n",
    "using Plots\n",
    "using StaticArrays"
   ]
  },
  {
   "cell_type": "code",
   "execution_count": 84,
   "metadata": {},
   "outputs": [
    {
     "name": "stderr",
     "output_type": "stream",
     "text": [
      "WARNING: replacing module OptimalControl.\n"
     ]
    }
   ],
   "source": [
    "include(joinpath(@__DIR__,\"..\",\"RobotDynamics\",\"RobotDynamics.jl\"));\n",
    "include(joinpath(@__DIR__,\"..\",\"OptimalControl\",\"OptimalControl.jl\"));"
   ]
  },
  {
   "cell_type": "code",
   "execution_count": 80,
   "metadata": {},
   "outputs": [],
   "source": [
    "model = CartPole(input=:force);"
   ]
  },
  {
   "cell_type": "code",
   "execution_count": 85,
   "metadata": {},
   "outputs": [
    {
     "name": "stderr",
     "output_type": "stream",
     "text": [
      "┌ Info: DDP completed because max_iters was reached\n",
      "└ @ Main.OptimalControl c:\\Users\\william\\Desktop\\robot-dynamics-playground\\OptimalControl\\DDP.jl:124\n"
     ]
    }
   ],
   "source": [
    "x₀     = @SVector[0,0,0,0.]\n",
    "x_goal = @SVector[0,π,0,0.]\n",
    "\n",
    "Δt = 1/20\n",
    "N = 101\n",
    "u_guess = [@SVector[0.0] for k = 1:N-1]\n",
    "\n",
    "Qₖ = I(4)\n",
    "Rₖ = 0.1\n",
    "Qₙ = 100 * I(4)\n",
    "\n",
    "state_trans_func = (xₖ,uₖ) -> dynamics_rk4(model, xₖ, uₖ, Δt)\n",
    "stage_cost = (k,xₖ,uₖ) -> 0.5 * (xₖ-x_goal)' * Qₖ * (xₖ-x_goal) + 0.5 * uₖ' * Rₖ * uₖ\n",
    "terminal_cost = xₙ -> 0.5 * (xₙ-x_goal)' * Qₙ * (xₙ-x_goal)\n",
    "\n",
    "sol = OptimalControl.DDP(state_trans_func, stage_cost, terminal_cost, x₀, u_guess);"
   ]
  },
  {
   "cell_type": "code",
   "execution_count": 86,
   "metadata": {},
   "outputs": [
    {
     "name": "stderr",
     "output_type": "stream",
     "text": [
      "┌ Info: Listening on: 127.0.0.1:8712, thread id: 1\n",
      "└ @ HTTP.Servers C:\\Users\\william\\.julia\\packages\\HTTP\\bDoga\\src\\Servers.jl:367\n",
      "┌ Info: MeshCat server started. You can open the visualizer by visiting the following URL in your browser:\n",
      "│ http://127.0.0.1:8712\n",
      "└ @ MeshCat C:\\Users\\william\\.julia\\packages\\MeshCat\\I6NTX\\src\\visualizer.jl:63\n"
     ]
    }
   ],
   "source": [
    "vis = mc.Visualizer();"
   ]
  },
  {
   "cell_type": "code",
   "execution_count": 87,
   "metadata": {},
   "outputs": [
    {
     "data": {
      "text/html": [
       "    <div style=\"height: 500px; width: 100%; overflow-x: auto; overflow-y: hidden; resize: both\">\n",
       "    <iframe src=\"http://127.0.0.1:8712\" style=\"width: 100%; height: 100%; border: none\"></iframe>\n",
       "    </div>\n"
      ],
      "text/plain": [
       "MeshCat.DisplayedVisualizer(MeshCat.CoreVisualizer(MeshCat.SceneTrees.SceneNode(nothing, nothing, Dict{String, Vector{UInt8}}(), UInt8[0x83, 0xa7, 0x6f, 0x70, 0x74, 0x69, 0x6f, 0x6e, 0x73, 0x82  …  0x5f, 0x61, 0x6e, 0x69, 0x6d, 0x61, 0x74, 0x69, 0x6f, 0x6e], Dict{String, MeshCat.SceneTrees.SceneNode}(\"Grid\" => MeshCat.SceneTrees.SceneNode(nothing, nothing, Dict{String, Vector{UInt8}}(\"visible\" => [0x84, 0xa8, 0x70, 0x72, 0x6f, 0x70, 0x65, 0x72, 0x74, 0x79  …  0x70, 0x61, 0x74, 0x68, 0xa5, 0x2f, 0x47, 0x72, 0x69, 0x64]), nothing, Dict{String, MeshCat.SceneTrees.SceneNode}()), \"meshcat\" => MeshCat.SceneTrees.SceneNode(nothing, nothing, Dict{String, Vector{UInt8}}(), nothing, Dict{String, MeshCat.SceneTrees.SceneNode}(\"cart_pendulum\" => MeshCat.SceneTrees.SceneNode(nothing, nothing, Dict{String, Vector{UInt8}}(), nothing, Dict{String, MeshCat.SceneTrees.SceneNode}(\"rail\" => MeshCat.SceneTrees.SceneNode(UInt8[0x83, 0xa6, 0x6f, 0x62, 0x6a, 0x65, 0x63, 0x74, 0x84, 0xaa  …  0x64, 0x75, 0x6c, 0x75, 0x6d, 0x2f, 0x72, 0x61, 0x69, 0x6c], nothing, Dict{String, Vector{UInt8}}(), nothing, Dict{String, MeshCat.SceneTrees.SceneNode}()), \"cart\" => MeshCat.SceneTrees.SceneNode(UInt8[0x83, 0xa6, 0x6f, 0x62, 0x6a, 0x65, 0x63, 0x74, 0x84, 0xaa  …  0x64, 0x75, 0x6c, 0x75, 0x6d, 0x2f, 0x63, 0x61, 0x72, 0x74], UInt8[0x83, 0xa6, 0x6d, 0x61, 0x74, 0x72, 0x69, 0x78, 0xc7, 0x40  …  0x64, 0x75, 0x6c, 0x75, 0x6d, 0x2f, 0x63, 0x61, 0x72, 0x74], Dict{String, Vector{UInt8}}(), nothing, Dict{String, MeshCat.SceneTrees.SceneNode}()), \"pendulum\" => MeshCat.SceneTrees.SceneNode(nothing, nothing, Dict{String, Vector{UInt8}}(), nothing, Dict{String, MeshCat.SceneTrees.SceneNode}(\"pole\" => MeshCat.SceneTrees.SceneNode(UInt8[0x83, 0xa6, 0x6f, 0x62, 0x6a, 0x65, 0x63, 0x74, 0x84, 0xaa  …  0x64, 0x75, 0x6c, 0x75, 0x6d, 0x2f, 0x70, 0x6f, 0x6c, 0x65], UInt8[0x83, 0xa6, 0x6d, 0x61, 0x74, 0x72, 0x69, 0x78, 0xc7, 0x40  …  0x64, 0x75, 0x6c, 0x75, 0x6d, 0x2f, 0x70, 0x6f, 0x6c, 0x65], Dict{String, Vector{UInt8}}(), nothing, Dict{String, MeshCat.SceneTrees.SceneNode}()), \"hinge\" => MeshCat.SceneTrees.SceneNode(UInt8[0x83, 0xa6, 0x6f, 0x62, 0x6a, 0x65, 0x63, 0x74, 0x84, 0xaa  …  0x75, 0x6c, 0x75, 0x6d, 0x2f, 0x68, 0x69, 0x6e, 0x67, 0x65], UInt8[0x83, 0xa6, 0x6d, 0x61, 0x74, 0x72, 0x69, 0x78, 0xc7, 0x40  …  0x75, 0x6c, 0x75, 0x6d, 0x2f, 0x68, 0x69, 0x6e, 0x67, 0x65], Dict{String, Vector{UInt8}}(), nothing, Dict{String, MeshCat.SceneTrees.SceneNode}()), \"mass\" => MeshCat.SceneTrees.SceneNode(UInt8[0x83, 0xa6, 0x6f, 0x62, 0x6a, 0x65, 0x63, 0x74, 0x84, 0xaa  …  0x64, 0x75, 0x6c, 0x75, 0x6d, 0x2f, 0x6d, 0x61, 0x73, 0x73], UInt8[0x83, 0xa6, 0x6d, 0x61, 0x74, 0x72, 0x69, 0x78, 0xc7, 0x40  …  0x64, 0x75, 0x6c, 0x75, 0x6d, 0x2f, 0x6d, 0x61, 0x73, 0x73], Dict{String, Vector{UInt8}}(), nothing, Dict{String, MeshCat.SceneTrees.SceneNode}()))))))), \"Axes\" => MeshCat.SceneTrees.SceneNode(nothing, nothing, Dict{String, Vector{UInt8}}(\"visible\" => [0x84, 0xa8, 0x70, 0x72, 0x6f, 0x70, 0x65, 0x72, 0x74, 0x79  …  0x70, 0x61, 0x74, 0x68, 0xa5, 0x2f, 0x41, 0x78, 0x65, 0x73]), nothing, Dict{String, MeshCat.SceneTrees.SceneNode}()))), Set{HTTP.WebSockets.WebSocket}(), ip\"127.0.0.1\", 8712))"
      ]
     },
     "metadata": {},
     "output_type": "display_data"
    }
   ],
   "source": [
    "set_mesh!(vis, model)\n",
    "animate!(vis, model, sol.x, Δt)\n",
    "\n",
    "display(mc.render(vis))"
   ]
  },
  {
   "cell_type": "code",
   "execution_count": 88,
   "metadata": {},
   "outputs": [
    {
     "data": {
      "image/png": "[encoded data removed]",
      "image/svg+xml": [
       "<?xml version=\"1.0\" encoding=\"utf-8\"?>\n",
       "<svg xmlns=\"http://www.w3.org/2000/svg\" xmlns:xlink=\"http://www.w3.org/1999/xlink\" width=\"600\" height=\"400\" viewBox=\"0 0 2400 1600\">\n",
       "<defs>\n",
       "  <clipPath id=\"clip500\">\n",
       "    <rect x=\"0\" y=\"0\" width=\"2400\" height=\"1600\"/>\n",
       "  </clipPath>\n",
       "</defs>\n",
       "<path clip-path=\"url(#clip500)\" d=\"M0 1600 L2400 1600 L2400 0 L0 0  Z\" fill=\"#ffffff\" fill-rule=\"evenodd\" fill-opacity=\"1\"/>\n",
       "<defs>\n",
       "  <clipPath id=\"clip501\">\n",
       "    <rect x=\"480\" y=\"0\" width=\"1681\" height=\"1600\"/>\n",
       "  </clipPath>\n",
       "</defs>\n",
       "<path clip-path=\"url(#clip500)\" d=\"M110.881 1486.45 L2352.76 1486.45 L2352.76 47.2441 L110.881 47.2441  Z\" fill=\"#ffffff\" fill-rule=\"evenodd\" fill-opacity=\"1\"/>\n",
       "<defs>\n",
       "  <clipPath id=\"clip502\">\n",
       "    <rect x=\"110\" y=\"47\" width=\"2243\" height=\"1440\"/>\n",
       "  </clipPath>\n",
       "</defs>\n",
       "<polyline clip-path=\"url(#clip502)\" style=\"stroke:#000000; stroke-linecap:round; stroke-linejoin:round; stroke-width:2; stroke-opacity:0.1; fill:none\" points=\"174.33,1486.45 174.33,47.2441 \"/>\n",
       "<polyline clip-path=\"url(#clip502)\" style=\"stroke:#000000; stroke-linecap:round; stroke-linejoin:round; stroke-width:2; stroke-opacity:0.1; fill:none\" points=\"597.325,1486.45 597.325,47.2441 \"/>\n",
       "<polyline clip-path=\"url(#clip502)\" style=\"stroke:#000000; stroke-linecap:round; stroke-linejoin:round; stroke-width:2; stroke-opacity:0.1; fill:none\" points=\"1020.32,1486.45 1020.32,47.2441 \"/>\n",
       "<polyline clip-path=\"url(#clip502)\" style=\"stroke:#000000; stroke-linecap:round; stroke-linejoin:round; stroke-width:2; stroke-opacity:0.1; fill:none\" points=\"1443.32,1486.45 1443.32,47.2441 \"/>\n",
       "<polyline clip-path=\"url(#clip502)\" style=\"stroke:#000000; stroke-linecap:round; stroke-linejoin:round; stroke-width:2; stroke-opacity:0.1; fill:none\" points=\"1866.31,1486.45 1866.31,47.2441 \"/>\n",
       "<polyline clip-path=\"url(#clip502)\" style=\"stroke:#000000; stroke-linecap:round; stroke-linejoin:round; stroke-width:2; stroke-opacity:0.1; fill:none\" points=\"2289.31,1486.45 2289.31,47.2441 \"/>\n",
       "<polyline clip-path=\"url(#clip500)\" style=\"stroke:#000000; stroke-linecap:round; stroke-linejoin:round; stroke-width:4; stroke-opacity:1; fill:none\" points=\"110.881,1486.45 2352.76,1486.45 \"/>\n",
       "<polyline clip-path=\"url(#clip500)\" style=\"stroke:#000000; stroke-linecap:round; stroke-linejoin:round; stroke-width:4; stroke-opacity:1; fill:none\" points=\"174.33,1486.45 174.33,1467.55 \"/>\n",
       "<polyline clip-path=\"url(#clip500)\" style=\"stroke:#000000; stroke-linecap:round; stroke-linejoin:round; stroke-width:4; stroke-opacity:1; fill:none\" points=\"597.325,1486.45 597.325,1467.55 \"/>\n",
       "<polyline clip-path=\"url(#clip500)\" style=\"stroke:#000000; stroke-linecap:round; stroke-linejoin:round; stroke-width:4; stroke-opacity:1; fill:none\" points=\"1020.32,1486.45 1020.32,1467.55 \"/>\n",
       "<polyline clip-path=\"url(#clip500)\" style=\"stroke:#000000; stroke-linecap:round; stroke-linejoin:round; stroke-width:4; stroke-opacity:1; fill:none\" points=\"1443.32,1486.45 1443.32,1467.55 \"/>\n",
       "<polyline clip-path=\"url(#clip500)\" style=\"stroke:#000000; stroke-linecap:round; stroke-linejoin:round; stroke-width:4; stroke-opacity:1; fill:none\" points=\"1866.31,1486.45 1866.31,1467.55 \"/>\n",
       "<polyline clip-path=\"url(#clip500)\" style=\"stroke:#000000; stroke-linecap:round; stroke-linejoin:round; stroke-width:4; stroke-opacity:1; fill:none\" points=\"2289.31,1486.45 2289.31,1467.55 \"/>\n",
       "<path clip-path=\"url(#clip500)\" d=\"M174.33 1517.37 Q170.719 1517.37 168.89 1520.93 Q167.085 1524.47 167.085 1531.6 Q167.085 1538.71 168.89 1542.27 Q170.719 1545.82 174.33 1545.82 Q177.964 1545.82 179.77 1542.27 Q181.599 1538.71 181.599 1531.6 Q181.599 1524.47 179.77 1520.93 Q177.964 1517.37 174.33 1517.37 M174.33 1513.66 Q180.14 1513.66 183.196 1518.27 Q186.275 1522.85 186.275 1531.6 Q186.275 1540.33 183.196 1544.94 Q180.14 1549.52 174.33 1549.52 Q168.52 1549.52 165.441 1544.94 Q162.386 1540.33 162.386 1531.6 Q162.386 1522.85 165.441 1518.27 Q168.52 1513.66 174.33 1513.66 Z\" fill=\"#000000\" fill-rule=\"nonzero\" fill-opacity=\"1\" /><path clip-path=\"url(#clip500)\" d=\"M587.707 1544.91 L595.346 1544.91 L595.346 1518.55 L587.036 1520.21 L587.036 1515.95 L595.3 1514.29 L599.976 1514.29 L599.976 1544.91 L607.615 1544.91 L607.615 1548.85 L587.707 1548.85 L587.707 1544.91 Z\" fill=\"#000000\" fill-rule=\"nonzero\" fill-opacity=\"1\" /><path clip-path=\"url(#clip500)\" d=\"M1014.97 1544.91 L1031.29 1544.91 L1031.29 1548.85 L1009.35 1548.85 L1009.35 1544.91 Q1012.01 1542.16 1016.59 1537.53 Q1021.2 1532.88 1022.38 1531.53 Q1024.63 1529.01 1025.51 1527.27 Q1026.41 1525.51 1026.41 1523.82 Q1026.41 1521.07 1024.46 1519.33 Q1022.54 1517.6 1019.44 1517.6 Q1017.24 1517.6 1014.79 1518.36 Q1012.36 1519.13 1009.58 1520.68 L1009.58 1515.95 Q1012.4 1514.82 1014.86 1514.24 Q1017.31 1513.66 1019.35 1513.66 Q1024.72 1513.66 1027.91 1516.35 Q1031.11 1519.03 1031.11 1523.52 Q1031.11 1525.65 1030.3 1527.57 Q1029.51 1529.47 1027.4 1532.07 Q1026.83 1532.74 1023.72 1535.95 Q1020.62 1539.15 1014.97 1544.91 Z\" fill=\"#000000\" fill-rule=\"nonzero\" fill-opacity=\"1\" /><path clip-path=\"url(#clip500)\" d=\"M1447.56 1530.21 Q1450.92 1530.93 1452.8 1533.2 Q1454.69 1535.47 1454.69 1538.8 Q1454.69 1543.92 1451.17 1546.72 Q1447.66 1549.52 1441.17 1549.52 Q1439 1549.52 1436.68 1549.08 Q1434.39 1548.66 1431.94 1547.81 L1431.94 1543.29 Q1433.88 1544.43 1436.2 1545.01 Q1438.51 1545.58 1441.04 1545.58 Q1445.43 1545.58 1447.73 1543.85 Q1450.04 1542.11 1450.04 1538.8 Q1450.04 1535.75 1447.89 1534.03 Q1445.76 1532.3 1441.94 1532.3 L1437.91 1532.3 L1437.91 1528.45 L1442.12 1528.45 Q1445.57 1528.45 1447.4 1527.09 Q1449.23 1525.7 1449.23 1523.11 Q1449.23 1520.45 1447.33 1519.03 Q1445.46 1517.6 1441.94 1517.6 Q1440.02 1517.6 1437.82 1518.01 Q1435.62 1518.43 1432.98 1519.31 L1432.98 1515.14 Q1435.64 1514.4 1437.96 1514.03 Q1440.3 1513.66 1442.36 1513.66 Q1447.68 1513.66 1450.78 1516.09 Q1453.88 1518.5 1453.88 1522.62 Q1453.88 1525.49 1452.24 1527.48 Q1450.6 1529.45 1447.56 1530.21 Z\" fill=\"#000000\" fill-rule=\"nonzero\" fill-opacity=\"1\" /><path clip-path=\"url(#clip500)\" d=\"M1869.32 1518.36 L1857.52 1536.81 L1869.32 1536.81 L1869.32 1518.36 M1868.09 1514.29 L1873.97 1514.29 L1873.97 1536.81 L1878.9 1536.81 L1878.9 1540.7 L1873.97 1540.7 L1873.97 1548.85 L1869.32 1548.85 L1869.32 1540.7 L1853.72 1540.7 L1853.72 1536.19 L1868.09 1514.29 Z\" fill=\"#000000\" fill-rule=\"nonzero\" fill-opacity=\"1\" /><path clip-path=\"url(#clip500)\" d=\"M2279.58 1514.29 L2297.94 1514.29 L2297.94 1518.22 L2283.87 1518.22 L2283.87 1526.7 Q2284.89 1526.35 2285.9 1526.19 Q2286.92 1526 2287.94 1526 Q2293.73 1526 2297.11 1529.17 Q2300.49 1532.34 2300.49 1537.76 Q2300.49 1543.34 2297.01 1546.44 Q2293.54 1549.52 2287.22 1549.52 Q2285.05 1549.52 2282.78 1549.15 Q2280.53 1548.78 2278.13 1548.04 L2278.13 1543.34 Q2280.21 1544.47 2282.43 1545.03 Q2284.65 1545.58 2287.13 1545.58 Q2291.14 1545.58 2293.47 1543.48 Q2295.81 1541.37 2295.81 1537.76 Q2295.81 1534.15 2293.47 1532.04 Q2291.14 1529.94 2287.13 1529.94 Q2285.26 1529.94 2283.38 1530.35 Q2281.53 1530.77 2279.58 1531.65 L2279.58 1514.29 Z\" fill=\"#000000\" fill-rule=\"nonzero\" fill-opacity=\"1\" /><polyline clip-path=\"url(#clip502)\" style=\"stroke:#000000; stroke-linecap:round; stroke-linejoin:round; stroke-width:2; stroke-opacity:0.1; fill:none\" points=\"110.881,1280.32 2352.76,1280.32 \"/>\n",
       "<polyline clip-path=\"url(#clip502)\" style=\"stroke:#000000; stroke-linecap:round; stroke-linejoin:round; stroke-width:2; stroke-opacity:0.1; fill:none\" points=\"110.881,902.845 2352.76,902.845 \"/>\n",
       "<polyline clip-path=\"url(#clip502)\" style=\"stroke:#000000; stroke-linecap:round; stroke-linejoin:round; stroke-width:2; stroke-opacity:0.1; fill:none\" points=\"110.881,525.366 2352.76,525.366 \"/>\n",
       "<polyline clip-path=\"url(#clip502)\" style=\"stroke:#000000; stroke-linecap:round; stroke-linejoin:round; stroke-width:2; stroke-opacity:0.1; fill:none\" points=\"110.881,147.887 2352.76,147.887 \"/>\n",
       "<polyline clip-path=\"url(#clip500)\" style=\"stroke:#000000; stroke-linecap:round; stroke-linejoin:round; stroke-width:4; stroke-opacity:1; fill:none\" points=\"110.881,1486.45 110.881,47.2441 \"/>\n",
       "<polyline clip-path=\"url(#clip500)\" style=\"stroke:#000000; stroke-linecap:round; stroke-linejoin:round; stroke-width:4; stroke-opacity:1; fill:none\" points=\"110.881,1280.32 129.779,1280.32 \"/>\n",
       "<polyline clip-path=\"url(#clip500)\" style=\"stroke:#000000; stroke-linecap:round; stroke-linejoin:round; stroke-width:4; stroke-opacity:1; fill:none\" points=\"110.881,902.845 129.779,902.845 \"/>\n",
       "<polyline clip-path=\"url(#clip500)\" style=\"stroke:#000000; stroke-linecap:round; stroke-linejoin:round; stroke-width:4; stroke-opacity:1; fill:none\" points=\"110.881,525.366 129.779,525.366 \"/>\n",
       "<polyline clip-path=\"url(#clip500)\" style=\"stroke:#000000; stroke-linecap:round; stroke-linejoin:round; stroke-width:4; stroke-opacity:1; fill:none\" points=\"110.881,147.887 129.779,147.887 \"/>\n",
       "<path clip-path=\"url(#clip500)\" d=\"M62.9365 1266.12 Q59.3254 1266.12 57.4967 1269.69 Q55.6912 1273.23 55.6912 1280.36 Q55.6912 1287.47 57.4967 1291.03 Q59.3254 1294.57 62.9365 1294.57 Q66.5707 1294.57 68.3763 1291.03 Q70.205 1287.47 70.205 1280.36 Q70.205 1273.23 68.3763 1269.69 Q66.5707 1266.12 62.9365 1266.12 M62.9365 1262.42 Q68.7467 1262.42 71.8022 1267.03 Q74.8809 1271.61 74.8809 1280.36 Q74.8809 1289.09 71.8022 1293.69 Q68.7467 1298.28 62.9365 1298.28 Q57.1264 1298.28 54.0477 1293.69 Q50.9921 1289.09 50.9921 1280.36 Q50.9921 1271.61 54.0477 1267.03 Q57.1264 1262.42 62.9365 1262.42 Z\" fill=\"#000000\" fill-rule=\"nonzero\" fill-opacity=\"1\" /><path clip-path=\"url(#clip500)\" d=\"M54.9736 916.19 L62.6124 916.19 L62.6124 889.824 L54.3023 891.491 L54.3023 887.232 L62.5661 885.565 L67.242 885.565 L67.242 916.19 L74.8809 916.19 L74.8809 920.125 L54.9736 920.125 L54.9736 916.19 Z\" fill=\"#000000\" fill-rule=\"nonzero\" fill-opacity=\"1\" /><path clip-path=\"url(#clip500)\" d=\"M58.5615 538.711 L74.8809 538.711 L74.8809 542.646 L52.9366 542.646 L52.9366 538.711 Q55.5986 535.956 60.1819 531.327 Q64.7883 526.674 65.9689 525.331 Q68.2143 522.808 69.0939 521.072 Q69.9967 519.313 69.9967 517.623 Q69.9967 514.868 68.0522 513.132 Q66.1309 511.396 63.0291 511.396 Q60.83 511.396 58.3763 512.16 Q55.9458 512.924 53.168 514.475 L53.168 509.753 Q55.9921 508.618 58.4458 508.04 Q60.8995 507.461 62.9365 507.461 Q68.3068 507.461 71.5013 510.146 Q74.6957 512.831 74.6957 517.322 Q74.6957 519.452 73.8855 521.373 Q73.0985 523.271 70.992 525.864 Q70.4133 526.535 67.3115 529.752 Q64.2096 532.947 58.5615 538.711 Z\" fill=\"#000000\" fill-rule=\"nonzero\" fill-opacity=\"1\" /><path clip-path=\"url(#clip500)\" d=\"M67.7513 146.533 Q71.1078 147.25 72.9827 149.519 Q74.8809 151.787 74.8809 155.121 Q74.8809 160.236 71.3624 163.037 Q67.8439 165.838 61.3624 165.838 Q59.1865 165.838 56.8717 165.398 Q54.5801 164.982 52.1264 164.125 L52.1264 159.611 Q54.0708 160.746 56.3856 161.324 Q58.7004 161.903 61.2236 161.903 Q65.6217 161.903 67.9133 160.167 Q70.2281 158.431 70.2281 155.121 Q70.2281 152.065 68.0754 150.352 Q65.9457 148.616 62.1263 148.616 L58.0986 148.616 L58.0986 144.773 L62.3115 144.773 Q65.7606 144.773 67.5893 143.408 Q69.418 142.019 69.418 139.426 Q69.418 136.764 67.5198 135.352 Q65.6448 133.917 62.1263 133.917 Q60.205 133.917 58.006 134.334 Q55.8069 134.75 53.168 135.63 L53.168 131.463 Q55.8301 130.723 58.1449 130.352 Q60.4828 129.982 62.543 129.982 Q67.867 129.982 70.9689 132.412 Q74.0707 134.82 74.0707 138.94 Q74.0707 141.811 72.4272 143.801 Q70.7837 145.769 67.7513 146.533 Z\" fill=\"#000000\" fill-rule=\"nonzero\" fill-opacity=\"1\" /><polyline clip-path=\"url(#clip502)\" style=\"stroke:#009af9; stroke-linecap:round; stroke-linejoin:round; stroke-width:4; stroke-opacity:1; fill:none\" points=\"174.33,1280.32 195.48,1279.83 216.63,1278.99 237.779,1278.98 258.929,1280.7 280.079,1284.84 301.229,1291.84 322.379,1301.92 343.528,1315.06 364.678,1331 385.828,1349.22 406.978,1368.93 428.127,1389.06 449.277,1408.34 470.427,1425.28 491.577,1438.29 512.726,1445.69 533.876,1445.72 555.026,1436.44 576.176,1415.58 597.325,1380.21 618.475,1326.5 639.625,1250.02 660.775,1148.31 681.925,1026.14 703.074,897.58 724.224,778.068 745.374,675.862 766.524,591.647 787.673,522.429 808.823,464.592 829.973,415.17 851.123,372.095 872.272,334.047 893.422,300.216 914.572,270.1 935.722,243.361 956.871,219.737 978.021,198.992 999.171,180.893 1020.32,165.209 1041.47,151.706 1062.62,140.157 1083.77,130.343 1104.92,122.057 1126.07,115.108 1147.22,109.323 1168.37,104.543 1189.52,100.627 1210.67,97.4524 1231.82,94.9075 1252.97,92.8966 1274.12,91.3357 1295.27,90.152 1316.42,89.2827 1337.57,88.6736 1358.72,88.2783 1379.87,88.0571 1401.02,87.9763 1422.17,88.0073 1443.32,88.1259 1464.47,88.312 1485.62,88.5485 1506.77,88.8215 1527.92,89.1194 1549.06,89.4326 1570.21,89.7535 1591.36,90.076 1612.51,90.3951 1633.66,90.707 1654.81,91.009 1675.96,91.2989 1697.11,91.5751 1718.26,91.8368 1739.41,92.0834 1760.56,92.3146 1781.71,92.5306 1802.86,92.7316 1824.01,92.9181 1845.16,93.0907 1866.31,93.25 1887.46,93.3968 1908.61,93.5317 1929.76,93.6557 1950.91,93.7694 1972.06,93.8736 1993.21,93.9689 2014.36,94.0562 2035.51,94.136 2056.66,94.2089 2077.81,94.2753 2098.96,94.3356 2120.11,94.3902 2141.26,94.4392 2162.41,94.4827 2183.56,94.5207 2204.71,94.5529 2225.86,94.5788 2247.01,94.5977 2268.16,94.6087 2289.31,94.6103 \"/>\n",
       "<path clip-path=\"url(#clip500)\" d=\"M185.61 195.442 L433.594 195.442 L433.594 95.2176 L185.61 95.2176  Z\" fill=\"#ffffff\" fill-rule=\"evenodd\" fill-opacity=\"1\"/>\n",
       "<polyline clip-path=\"url(#clip500)\" style=\"stroke:#000000; stroke-linecap:round; stroke-linejoin:round; stroke-width:4; stroke-opacity:1; fill:none\" points=\"185.61,195.442 433.594,195.442 433.594,95.2176 185.61,95.2176 185.61,195.442 \"/>\n",
       "<polyline clip-path=\"url(#clip500)\" style=\"stroke:#009af9; stroke-linecap:round; stroke-linejoin:round; stroke-width:4; stroke-opacity:1; fill:none\" points=\"210.52,145.33 359.978,145.33 \"/>\n",
       "<path clip-path=\"url(#clip500)\" d=\"M404.147 142.546 L389.402 142.546 Q389.749 149.467 391.346 152.407 Q393.337 156.018 396.786 156.018 Q400.258 156.018 402.179 152.384 Q403.869 149.189 404.147 142.546 M404.078 138.61 Q403.429 132.036 402.179 129.722 Q400.189 126.064 396.786 126.064 Q393.244 126.064 391.369 129.675 Q389.888 132.592 389.448 138.61 L404.078 138.61 M396.786 122.592 Q402.341 122.592 405.513 127.499 Q408.684 132.384 408.684 141.041 Q408.684 149.675 405.513 154.583 Q402.341 159.513 396.786 159.513 Q391.207 159.513 388.059 154.583 Q384.888 149.675 384.888 141.041 Q384.888 132.384 388.059 127.499 Q391.207 122.592 396.786 122.592 Z\" fill=\"#000000\" fill-rule=\"nonzero\" fill-opacity=\"1\" /></svg>\n"
      ],
      "text/html": [
       "<?xml version=\"1.0\" encoding=\"utf-8\"?>\n",
       "<svg xmlns=\"http://www.w3.org/2000/svg\" xmlns:xlink=\"http://www.w3.org/1999/xlink\" width=\"600\" height=\"400\" viewBox=\"0 0 2400 1600\">\n",
       "<defs>\n",
       "  <clipPath id=\"clip550\">\n",
       "    <rect x=\"0\" y=\"0\" width=\"2400\" height=\"1600\"/>\n",
       "  </clipPath>\n",
       "</defs>\n",
       "<path clip-path=\"url(#clip550)\" d=\"M0 1600 L2400 1600 L2400 0 L0 0  Z\" fill=\"#ffffff\" fill-rule=\"evenodd\" fill-opacity=\"1\"/>\n",
       "<defs>\n",
       "  <clipPath id=\"clip551\">\n",
       "    <rect x=\"480\" y=\"0\" width=\"1681\" height=\"1600\"/>\n",
       "  </clipPath>\n",
       "</defs>\n",
       "<path clip-path=\"url(#clip550)\" d=\"M110.881 1486.45 L2352.76 1486.45 L2352.76 47.2441 L110.881 47.2441  Z\" fill=\"#ffffff\" fill-rule=\"evenodd\" fill-opacity=\"1\"/>\n",
       "<defs>\n",
       "  <clipPath id=\"clip552\">\n",
       "    <rect x=\"110\" y=\"47\" width=\"2243\" height=\"1440\"/>\n",
       "  </clipPath>\n",
       "</defs>\n",
       "<polyline clip-path=\"url(#clip552)\" style=\"stroke:#000000; stroke-linecap:round; stroke-linejoin:round; stroke-width:2; stroke-opacity:0.1; fill:none\" points=\"174.33,1486.45 174.33,47.2441 \"/>\n",
       "<polyline clip-path=\"url(#clip552)\" style=\"stroke:#000000; stroke-linecap:round; stroke-linejoin:round; stroke-width:2; stroke-opacity:0.1; fill:none\" points=\"597.325,1486.45 597.325,47.2441 \"/>\n",
       "<polyline clip-path=\"url(#clip552)\" style=\"stroke:#000000; stroke-linecap:round; stroke-linejoin:round; stroke-width:2; stroke-opacity:0.1; fill:none\" points=\"1020.32,1486.45 1020.32,47.2441 \"/>\n",
       "<polyline clip-path=\"url(#clip552)\" style=\"stroke:#000000; stroke-linecap:round; stroke-linejoin:round; stroke-width:2; stroke-opacity:0.1; fill:none\" points=\"1443.32,1486.45 1443.32,47.2441 \"/>\n",
       "<polyline clip-path=\"url(#clip552)\" style=\"stroke:#000000; stroke-linecap:round; stroke-linejoin:round; stroke-width:2; stroke-opacity:0.1; fill:none\" points=\"1866.31,1486.45 1866.31,47.2441 \"/>\n",
       "<polyline clip-path=\"url(#clip552)\" style=\"stroke:#000000; stroke-linecap:round; stroke-linejoin:round; stroke-width:2; stroke-opacity:0.1; fill:none\" points=\"2289.31,1486.45 2289.31,47.2441 \"/>\n",
       "<polyline clip-path=\"url(#clip550)\" style=\"stroke:#000000; stroke-linecap:round; stroke-linejoin:round; stroke-width:4; stroke-opacity:1; fill:none\" points=\"110.881,1486.45 2352.76,1486.45 \"/>\n",
       "<polyline clip-path=\"url(#clip550)\" style=\"stroke:#000000; stroke-linecap:round; stroke-linejoin:round; stroke-width:4; stroke-opacity:1; fill:none\" points=\"174.33,1486.45 174.33,1467.55 \"/>\n",
       "<polyline clip-path=\"url(#clip550)\" style=\"stroke:#000000; stroke-linecap:round; stroke-linejoin:round; stroke-width:4; stroke-opacity:1; fill:none\" points=\"597.325,1486.45 597.325,1467.55 \"/>\n",
       "<polyline clip-path=\"url(#clip550)\" style=\"stroke:#000000; stroke-linecap:round; stroke-linejoin:round; stroke-width:4; stroke-opacity:1; fill:none\" points=\"1020.32,1486.45 1020.32,1467.55 \"/>\n",
       "<polyline clip-path=\"url(#clip550)\" style=\"stroke:#000000; stroke-linecap:round; stroke-linejoin:round; stroke-width:4; stroke-opacity:1; fill:none\" points=\"1443.32,1486.45 1443.32,1467.55 \"/>\n",
       "<polyline clip-path=\"url(#clip550)\" style=\"stroke:#000000; stroke-linecap:round; stroke-linejoin:round; stroke-width:4; stroke-opacity:1; fill:none\" points=\"1866.31,1486.45 1866.31,1467.55 \"/>\n",
       "<polyline clip-path=\"url(#clip550)\" style=\"stroke:#000000; stroke-linecap:round; stroke-linejoin:round; stroke-width:4; stroke-opacity:1; fill:none\" points=\"2289.31,1486.45 2289.31,1467.55 \"/>\n",
       "<path clip-path=\"url(#clip550)\" d=\"M174.33 1517.37 Q170.719 1517.37 168.89 1520.93 Q167.085 1524.47 167.085 1531.6 Q167.085 1538.71 168.89 1542.27 Q170.719 1545.82 174.33 1545.82 Q177.964 1545.82 179.77 1542.27 Q181.599 1538.71 181.599 1531.6 Q181.599 1524.47 179.77 1520.93 Q177.964 1517.37 174.33 1517.37 M174.33 1513.66 Q180.14 1513.66 183.196 1518.27 Q186.275 1522.85 186.275 1531.6 Q186.275 1540.33 183.196 1544.94 Q180.14 1549.52 174.33 1549.52 Q168.52 1549.52 165.441 1544.94 Q162.386 1540.33 162.386 1531.6 Q162.386 1522.85 165.441 1518.27 Q168.52 1513.66 174.33 1513.66 Z\" fill=\"#000000\" fill-rule=\"nonzero\" fill-opacity=\"1\" /><path clip-path=\"url(#clip550)\" d=\"M587.707 1544.91 L595.346 1544.91 L595.346 1518.55 L587.036 1520.21 L587.036 1515.95 L595.3 1514.29 L599.976 1514.29 L599.976 1544.91 L607.615 1544.91 L607.615 1548.85 L587.707 1548.85 L587.707 1544.91 Z\" fill=\"#000000\" fill-rule=\"nonzero\" fill-opacity=\"1\" /><path clip-path=\"url(#clip550)\" d=\"M1014.97 1544.91 L1031.29 1544.91 L1031.29 1548.85 L1009.35 1548.85 L1009.35 1544.91 Q1012.01 1542.16 1016.59 1537.53 Q1021.2 1532.88 1022.38 1531.53 Q1024.63 1529.01 1025.51 1527.27 Q1026.41 1525.51 1026.41 1523.82 Q1026.41 1521.07 1024.46 1519.33 Q1022.54 1517.6 1019.44 1517.6 Q1017.24 1517.6 1014.79 1518.36 Q1012.36 1519.13 1009.58 1520.68 L1009.58 1515.95 Q1012.4 1514.82 1014.86 1514.24 Q1017.31 1513.66 1019.35 1513.66 Q1024.72 1513.66 1027.91 1516.35 Q1031.11 1519.03 1031.11 1523.52 Q1031.11 1525.65 1030.3 1527.57 Q1029.51 1529.47 1027.4 1532.07 Q1026.83 1532.74 1023.72 1535.95 Q1020.62 1539.15 1014.97 1544.91 Z\" fill=\"#000000\" fill-rule=\"nonzero\" fill-opacity=\"1\" /><path clip-path=\"url(#clip550)\" d=\"M1447.56 1530.21 Q1450.92 1530.93 1452.8 1533.2 Q1454.69 1535.47 1454.69 1538.8 Q1454.69 1543.92 1451.17 1546.72 Q1447.66 1549.52 1441.17 1549.52 Q1439 1549.52 1436.68 1549.08 Q1434.39 1548.66 1431.94 1547.81 L1431.94 1543.29 Q1433.88 1544.43 1436.2 1545.01 Q1438.51 1545.58 1441.04 1545.58 Q1445.43 1545.58 1447.73 1543.85 Q1450.04 1542.11 1450.04 1538.8 Q1450.04 1535.75 1447.89 1534.03 Q1445.76 1532.3 1441.94 1532.3 L1437.91 1532.3 L1437.91 1528.45 L1442.12 1528.45 Q1445.57 1528.45 1447.4 1527.09 Q1449.23 1525.7 1449.23 1523.11 Q1449.23 1520.45 1447.33 1519.03 Q1445.46 1517.6 1441.94 1517.6 Q1440.02 1517.6 1437.82 1518.01 Q1435.62 1518.43 1432.98 1519.31 L1432.98 1515.14 Q1435.64 1514.4 1437.96 1514.03 Q1440.3 1513.66 1442.36 1513.66 Q1447.68 1513.66 1450.78 1516.09 Q1453.88 1518.5 1453.88 1522.62 Q1453.88 1525.49 1452.24 1527.48 Q1450.6 1529.45 1447.56 1530.21 Z\" fill=\"#000000\" fill-rule=\"nonzero\" fill-opacity=\"1\" /><path clip-path=\"url(#clip550)\" d=\"M1869.32 1518.36 L1857.52 1536.81 L1869.32 1536.81 L1869.32 1518.36 M1868.09 1514.29 L1873.97 1514.29 L1873.97 1536.81 L1878.9 1536.81 L1878.9 1540.7 L1873.97 1540.7 L1873.97 1548.85 L1869.32 1548.85 L1869.32 1540.7 L1853.72 1540.7 L1853.72 1536.19 L1868.09 1514.29 Z\" fill=\"#000000\" fill-rule=\"nonzero\" fill-opacity=\"1\" /><path clip-path=\"url(#clip550)\" d=\"M2279.58 1514.29 L2297.94 1514.29 L2297.94 1518.22 L2283.87 1518.22 L2283.87 1526.7 Q2284.89 1526.35 2285.9 1526.19 Q2286.92 1526 2287.94 1526 Q2293.73 1526 2297.11 1529.17 Q2300.49 1532.34 2300.49 1537.76 Q2300.49 1543.34 2297.01 1546.44 Q2293.54 1549.52 2287.22 1549.52 Q2285.05 1549.52 2282.78 1549.15 Q2280.53 1548.78 2278.13 1548.04 L2278.13 1543.34 Q2280.21 1544.47 2282.43 1545.03 Q2284.65 1545.58 2287.13 1545.58 Q2291.14 1545.58 2293.47 1543.48 Q2295.81 1541.37 2295.81 1537.76 Q2295.81 1534.15 2293.47 1532.04 Q2291.14 1529.94 2287.13 1529.94 Q2285.26 1529.94 2283.38 1530.35 Q2281.53 1530.77 2279.58 1531.65 L2279.58 1514.29 Z\" fill=\"#000000\" fill-rule=\"nonzero\" fill-opacity=\"1\" /><polyline clip-path=\"url(#clip552)\" style=\"stroke:#000000; stroke-linecap:round; stroke-linejoin:round; stroke-width:2; stroke-opacity:0.1; fill:none\" points=\"110.881,1280.32 2352.76,1280.32 \"/>\n",
       "<polyline clip-path=\"url(#clip552)\" style=\"stroke:#000000; stroke-linecap:round; stroke-linejoin:round; stroke-width:2; stroke-opacity:0.1; fill:none\" points=\"110.881,902.845 2352.76,902.845 \"/>\n",
       "<polyline clip-path=\"url(#clip552)\" style=\"stroke:#000000; stroke-linecap:round; stroke-linejoin:round; stroke-width:2; stroke-opacity:0.1; fill:none\" points=\"110.881,525.366 2352.76,525.366 \"/>\n",
       "<polyline clip-path=\"url(#clip552)\" style=\"stroke:#000000; stroke-linecap:round; stroke-linejoin:round; stroke-width:2; stroke-opacity:0.1; fill:none\" points=\"110.881,147.887 2352.76,147.887 \"/>\n",
       "<polyline clip-path=\"url(#clip550)\" style=\"stroke:#000000; stroke-linecap:round; stroke-linejoin:round; stroke-width:4; stroke-opacity:1; fill:none\" points=\"110.881,1486.45 110.881,47.2441 \"/>\n",
       "<polyline clip-path=\"url(#clip550)\" style=\"stroke:#000000; stroke-linecap:round; stroke-linejoin:round; stroke-width:4; stroke-opacity:1; fill:none\" points=\"110.881,1280.32 129.779,1280.32 \"/>\n",
       "<polyline clip-path=\"url(#clip550)\" style=\"stroke:#000000; stroke-linecap:round; stroke-linejoin:round; stroke-width:4; stroke-opacity:1; fill:none\" points=\"110.881,902.845 129.779,902.845 \"/>\n",
       "<polyline clip-path=\"url(#clip550)\" style=\"stroke:#000000; stroke-linecap:round; stroke-linejoin:round; stroke-width:4; stroke-opacity:1; fill:none\" points=\"110.881,525.366 129.779,525.366 \"/>\n",
       "<polyline clip-path=\"url(#clip550)\" style=\"stroke:#000000; stroke-linecap:round; stroke-linejoin:round; stroke-width:4; stroke-opacity:1; fill:none\" points=\"110.881,147.887 129.779,147.887 \"/>\n",
       "<path clip-path=\"url(#clip550)\" d=\"M62.9365 1266.12 Q59.3254 1266.12 57.4967 1269.69 Q55.6912 1273.23 55.6912 1280.36 Q55.6912 1287.47 57.4967 1291.03 Q59.3254 1294.57 62.9365 1294.57 Q66.5707 1294.57 68.3763 1291.03 Q70.205 1287.47 70.205 1280.36 Q70.205 1273.23 68.3763 1269.69 Q66.5707 1266.12 62.9365 1266.12 M62.9365 1262.42 Q68.7467 1262.42 71.8022 1267.03 Q74.8809 1271.61 74.8809 1280.36 Q74.8809 1289.09 71.8022 1293.69 Q68.7467 1298.28 62.9365 1298.28 Q57.1264 1298.28 54.0477 1293.69 Q50.9921 1289.09 50.9921 1280.36 Q50.9921 1271.61 54.0477 1267.03 Q57.1264 1262.42 62.9365 1262.42 Z\" fill=\"#000000\" fill-rule=\"nonzero\" fill-opacity=\"1\" /><path clip-path=\"url(#clip550)\" d=\"M54.9736 916.19 L62.6124 916.19 L62.6124 889.824 L54.3023 891.491 L54.3023 887.232 L62.5661 885.565 L67.242 885.565 L67.242 916.19 L74.8809 916.19 L74.8809 920.125 L54.9736 920.125 L54.9736 916.19 Z\" fill=\"#000000\" fill-rule=\"nonzero\" fill-opacity=\"1\" /><path clip-path=\"url(#clip550)\" d=\"M58.5615 538.711 L74.8809 538.711 L74.8809 542.646 L52.9366 542.646 L52.9366 538.711 Q55.5986 535.956 60.1819 531.327 Q64.7883 526.674 65.9689 525.331 Q68.2143 522.808 69.0939 521.072 Q69.9967 519.313 69.9967 517.623 Q69.9967 514.868 68.0522 513.132 Q66.1309 511.396 63.0291 511.396 Q60.83 511.396 58.3763 512.16 Q55.9458 512.924 53.168 514.475 L53.168 509.753 Q55.9921 508.618 58.4458 508.04 Q60.8995 507.461 62.9365 507.461 Q68.3068 507.461 71.5013 510.146 Q74.6957 512.831 74.6957 517.322 Q74.6957 519.452 73.8855 521.373 Q73.0985 523.271 70.992 525.864 Q70.4133 526.535 67.3115 529.752 Q64.2096 532.947 58.5615 538.711 Z\" fill=\"#000000\" fill-rule=\"nonzero\" fill-opacity=\"1\" /><path clip-path=\"url(#clip550)\" d=\"M67.7513 146.533 Q71.1078 147.25 72.9827 149.519 Q74.8809 151.787 74.8809 155.121 Q74.8809 160.236 71.3624 163.037 Q67.8439 165.838 61.3624 165.838 Q59.1865 165.838 56.8717 165.398 Q54.5801 164.982 52.1264 164.125 L52.1264 159.611 Q54.0708 160.746 56.3856 161.324 Q58.7004 161.903 61.2236 161.903 Q65.6217 161.903 67.9133 160.167 Q70.2281 158.431 70.2281 155.121 Q70.2281 152.065 68.0754 150.352 Q65.9457 148.616 62.1263 148.616 L58.0986 148.616 L58.0986 144.773 L62.3115 144.773 Q65.7606 144.773 67.5893 143.408 Q69.418 142.019 69.418 139.426 Q69.418 136.764 67.5198 135.352 Q65.6448 133.917 62.1263 133.917 Q60.205 133.917 58.006 134.334 Q55.8069 134.75 53.168 135.63 L53.168 131.463 Q55.8301 130.723 58.1449 130.352 Q60.4828 129.982 62.543 129.982 Q67.867 129.982 70.9689 132.412 Q74.0707 134.82 74.0707 138.94 Q74.0707 141.811 72.4272 143.801 Q70.7837 145.769 67.7513 146.533 Z\" fill=\"#000000\" fill-rule=\"nonzero\" fill-opacity=\"1\" /><polyline clip-path=\"url(#clip552)\" style=\"stroke:#009af9; stroke-linecap:round; stroke-linejoin:round; stroke-width:4; stroke-opacity:1; fill:none\" points=\"174.33,1280.32 195.48,1279.83 216.63,1278.99 237.779,1278.98 258.929,1280.7 280.079,1284.84 301.229,1291.84 322.379,1301.92 343.528,1315.06 364.678,1331 385.828,1349.22 406.978,1368.93 428.127,1389.06 449.277,1408.34 470.427,1425.28 491.577,1438.29 512.726,1445.69 533.876,1445.72 555.026,1436.44 576.176,1415.58 597.325,1380.21 618.475,1326.5 639.625,1250.02 660.775,1148.31 681.925,1026.14 703.074,897.58 724.224,778.068 745.374,675.862 766.524,591.647 787.673,522.429 808.823,464.592 829.973,415.17 851.123,372.095 872.272,334.047 893.422,300.216 914.572,270.1 935.722,243.361 956.871,219.737 978.021,198.992 999.171,180.893 1020.32,165.209 1041.47,151.706 1062.62,140.157 1083.77,130.343 1104.92,122.057 1126.07,115.108 1147.22,109.323 1168.37,104.543 1189.52,100.627 1210.67,97.4524 1231.82,94.9075 1252.97,92.8966 1274.12,91.3357 1295.27,90.152 1316.42,89.2827 1337.57,88.6736 1358.72,88.2783 1379.87,88.0571 1401.02,87.9763 1422.17,88.0073 1443.32,88.1259 1464.47,88.312 1485.62,88.5485 1506.77,88.8215 1527.92,89.1194 1549.06,89.4326 1570.21,89.7535 1591.36,90.076 1612.51,90.3951 1633.66,90.707 1654.81,91.009 1675.96,91.2989 1697.11,91.5751 1718.26,91.8368 1739.41,92.0834 1760.56,92.3146 1781.71,92.5306 1802.86,92.7316 1824.01,92.9181 1845.16,93.0907 1866.31,93.25 1887.46,93.3968 1908.61,93.5317 1929.76,93.6557 1950.91,93.7694 1972.06,93.8736 1993.21,93.9689 2014.36,94.0562 2035.51,94.136 2056.66,94.2089 2077.81,94.2753 2098.96,94.3356 2120.11,94.3902 2141.26,94.4392 2162.41,94.4827 2183.56,94.5207 2204.71,94.5529 2225.86,94.5788 2247.01,94.5977 2268.16,94.6087 2289.31,94.6103 \"/>\n",
       "<path clip-path=\"url(#clip550)\" d=\"M185.61 195.442 L433.594 195.442 L433.594 95.2176 L185.61 95.2176  Z\" fill=\"#ffffff\" fill-rule=\"evenodd\" fill-opacity=\"1\"/>\n",
       "<polyline clip-path=\"url(#clip550)\" style=\"stroke:#000000; stroke-linecap:round; stroke-linejoin:round; stroke-width:4; stroke-opacity:1; fill:none\" points=\"185.61,195.442 433.594,195.442 433.594,95.2176 185.61,95.2176 185.61,195.442 \"/>\n",
       "<polyline clip-path=\"url(#clip550)\" style=\"stroke:#009af9; stroke-linecap:round; stroke-linejoin:round; stroke-width:4; stroke-opacity:1; fill:none\" points=\"210.52,145.33 359.978,145.33 \"/>\n",
       "<path clip-path=\"url(#clip550)\" d=\"M404.147 142.546 L389.402 142.546 Q389.749 149.467 391.346 152.407 Q393.337 156.018 396.786 156.018 Q400.258 156.018 402.179 152.384 Q403.869 149.189 404.147 142.546 M404.078 138.61 Q403.429 132.036 402.179 129.722 Q400.189 126.064 396.786 126.064 Q393.244 126.064 391.369 129.675 Q389.888 132.592 389.448 138.61 L404.078 138.61 M396.786 122.592 Q402.341 122.592 405.513 127.499 Q408.684 132.384 408.684 141.041 Q408.684 149.675 405.513 154.583 Q402.341 159.513 396.786 159.513 Q391.207 159.513 388.059 154.583 Q384.888 149.675 384.888 141.041 Q384.888 132.384 388.059 127.499 Q391.207 122.592 396.786 122.592 Z\" fill=\"#000000\" fill-rule=\"nonzero\" fill-opacity=\"1\" /></svg>\n"
      ]
     },
     "metadata": {},
     "output_type": "display_data"
    }
   ],
   "source": [
    "data = reshape(reinterpret(Float64, sol.x), 4,:)'\n",
    "plot((0:N-1)*Δt, data[:,2], label=raw\"\\theta\")"
   ]
  }
 ],
 "metadata": {
  "kernelspec": {
   "display_name": "Julia 1.6.7",
   "language": "julia",
   "name": "julia-1.6"
  },
  "language_info": {
   "file_extension": ".jl",
   "mimetype": "application/julia",
   "name": "julia",
   "version": "1.6.7"
  }
 },
 "nbformat": 4,
 "nbformat_minor": 2
}
